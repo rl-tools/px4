{
 "cells": [
  {
   "cell_type": "code",
   "execution_count": null,
   "metadata": {},
   "outputs": [],
   "source": [
    "import pandas as pd\n",
    "from load_ulg import load_ulg, timeframe\n",
    "from tqdm import tqdm\n",
    "import matplotlib.pyplot as plt\n",
    "from sklearn.linear_model import LinearRegression\n",
    "from scipy.spatial.transform import Rotation as R\n",
    "import numpy as np"
   ]
  },
  {
   "cell_type": "code",
   "execution_count": null,
   "metadata": {},
   "outputs": [],
   "source": [
    "output_topic = \"actuator_motors_mux\"\n",
    "output_topic2 = \"actuator_motors_mux\""
   ]
  },
  {
   "cell_type": "markdown",
   "metadata": {},
   "source": [
    "### Loading the logfile into a Pandas dataframe"
   ]
  },
  {
   "cell_type": "code",
   "execution_count": null,
   "metadata": {},
   "outputs": [],
   "source": [
    "ulog_files = [\n",
    "    # \"logs/2024-01-09-jonas-hitl/log_19_2024-1-8-21-53-38.ulg\"\n",
    "    # \"logs/2024-01-09-jonas-hitl/log100.ulg\"\n",
    "    # \"logs/2024-01-09-jonas-hitl/no_delay.ulg\"\n",
    "    # \"logs/2024-01-09-jonas-hitl/15_14_37.ulg\"\n",
    "    # \"logs/2024-01-12-jonas-hitl/log_70_2022-1-1-04-07-10.ulg\"\n",
    "    # \"logs/2024-01-12-jonas-hitl/log_72_2022-1-1-04-16-32.ulg\"\n",
    "    # \"logs/2024-01-12-jonas-hitl/log_73_2022-1-1-04-17-42.ulg\",\n",
    "    # \"logs/2024-01-12-pavel policy test/log_76_2024-1-12-17-25-30.ulg\",\n",
    "    # \"logs/2024-01-12-pavel policy test/log_77_2024-1-12-17-27-50.ulg\"\n",
    "    # \"logs/2024-01-15-pavel/log_82_2024-1-15-12-34-06.ulg\", # long activation\n",
    "    # \"logs/2024-01-15-pavel/log_83_2024-1-15-12-48-46.ulg\"\n",
    "    # \"logs/2024-01-15-pavel/log_86_2024-1-15-15-39-52.ulg\" # clean history\n",
    "    # \"logs/2024-01-15-jonas-sim/log_39_2024-1-15-12-45-08.ulg\",\n",
    "    # \"logs/2024-01-15-jonas-sim/log_40_2024-1-15-12-45-08.ulg\"\n",
    "    # \"logs/2024-01-15-jonas-sim/log_41_2024-1-15-13-12-30.ulg\"\n",
    "    # \"logs/2024-01-16-pavel-succesful-flight/log_87_2024-1-16-14-49-56.ulg\",\n",
    "    # \"logs/2024-01-17-pre-test/log_90_2024-1-15-13-04-20.ulg\"\n",
    "    # \"logs/2024-01-17-pavel/log_93_2024-1-17-15-11-38.ulg\"\n",
    "    \"logs/2024-01-17-pavel/log_94_2024-1-17-15-14-04.ulg\" # trajectory tracking 1x\n",
    "]\n",
    "dfs = [load_ulg(file) for file in ulog_files]"
   ]
  },
  {
   "cell_type": "markdown",
   "metadata": {},
   "source": [
    "### Exploring the datapoints in the dataframe"
   ]
  },
  {
   "cell_type": "code",
   "execution_count": null,
   "metadata": {},
   "outputs": [],
   "source": [
    "grep = \"local\"\n",
    "[col for col in dfs[0].columns if grep in col]"
   ]
  },
  {
   "cell_type": "markdown",
   "metadata": {},
   "source": [
    "### Looking at the outputs to find the relevant timeframe"
   ]
  },
  {
   "cell_type": "code",
   "execution_count": null,
   "metadata": {},
   "outputs": [],
   "source": [
    "for i, (file, df) in enumerate(zip(ulog_files, dfs)):\n",
    "    # relevant_df = df[[*[f\"{output_topic}_control[{i}]\" for i in range(4)], \"rl_tools_multiplexer_status_active\"]].dropna(how=\"all\")\n",
    "    plt.figure()\n",
    "    plt.title(f\"file {i}: {file}\")\n",
    "    handles = []\n",
    "    labels = []\n",
    "    for i in [3]:\n",
    "        s = df[f\"{output_topic}_control[{i}]\"].dropna()\n",
    "        plt.plot(s.index, s, label=f\"{output_topic} motor {i}\")\n",
    "        s2 = df[f\"{output_topic2}_control[{i}]\"].dropna()\n",
    "        plt.plot(s2.index, s2, label=f\"{output_topic2} motor {i}\")\n",
    "    plt.xlabel(\"Time [s]\")\n",
    "    plt.ylabel(\"Throttle [0-1]\")\n",
    "    plt.legend()\n",
    "    plt.twinx()\n",
    "    plt.ylabel(\"active [true/false]\")\n",
    "    if \"rl_tools_multiplexer_status_active\" in df.columns:\n",
    "        s = df[\"rl_tools_multiplexer_status_active\"].dropna()\n",
    "        plt.plot(s.index, s, label=\"active\", color=\"red\")\n",
    "    plt.legend()\n",
    "    intervals = df[\"actuator_motors_control[0]\"].index.to_series().diff().dropna()\n",
    "    interval_mean = intervals.mean()\n",
    "    interval_std = intervals.std()\n",
    "    print(f\"file {i}: interval mean: {interval_mean}, std: {interval_std}\")\n",
    "\n",
    "    "
   ]
  },
  {
   "cell_type": "code",
   "execution_count": null,
   "metadata": {},
   "outputs": [],
   "source": [
    "timeframes = [\n",
    "    # (20, 80)\n",
    "    # (35.42, 40.47),\n",
    "    # (60, 80),\n",
    "    # (27.75, 28.5),\n",
    "    # (93.5, 94.5),\n",
    "    # (0, 1000000000)\n",
    "    # (20, 90)\n",
    "    # (4.5, 10),\n",
    "    # (63.9, 64.5),\n",
    "    # (65, 80)\n",
    "    # (63.9, 64.5),\n",
    "    # (63.95, 64.1),\n",
    "    # (1.8, 2.2),\n",
    "    # (69, 70.5),\n",
    "    # (76.2, 77.5),\n",
    "    # (66, 68)\n",
    "    # (56.5, 57.5)\n",
    "    # (71, 72),\n",
    "    # (86, 87),\n",
    "    (31, 65),\n",
    "    # (64.5, 65.5),\n",
    "    # (45, 80),\n",
    "]\n",
    "dfs_tf = [timeframe(df, time_start, time_end) for df, (time_start, time_end) in zip(dfs, timeframes)]"
   ]
  },
  {
   "cell_type": "code",
   "execution_count": null,
   "metadata": {},
   "outputs": [],
   "source": [
    "df = dfs_tf[0]\n",
    "fig, axs = plt.subplots(9, 1, figsize=(10, 20), sharex=True)\n",
    "fig.suptitle(f\"Policy Analysis {ulog_files[0]}\")\n",
    "curr = 0\n",
    "sa = df[\"rl_tools_multiplexer_status_active\"].dropna()\n",
    "axs[curr].plot(sa.index, sa, label=\"active\")\n",
    "axs[curr].legend()\n",
    "axs[curr].set_ylabel(\"active [true/false]\")\n",
    "twin = axs[curr].twinx()\n",
    "s = df[\"rl_tools_policy_status_exit_reason\"].dropna()\n",
    "twin.plot(s.index, s, label=\"active\", color=\"red\")\n",
    "twin.set_ylabel(\"exit reason\")\n",
    "curr += 1\n",
    "axs[curr].set_title(\"Policy Input\")\n",
    "for dim, axis in zip(range(3), [\"x\", \"y\", \"z\"]):\n",
    "    s = df[f\"rl_tools_policy_input_state_observation[{dim}]\"].dropna()\n",
    "    axs[curr].plot(s.index, s, label=f\"position {axis}\")\n",
    "axs[curr].legend()\n",
    "curr += 1\n",
    "# for dim, axis in zip(range(3), [\"x\", \"y\", \"z\"]):\n",
    "#     s = df[f\"vehicle_local_position_{axis}\"].dropna()\n",
    "#     axs[curr].plot(s.index, s, label=f\"position (actual) {axis}\")\n",
    "# axs[curr].legend()\n",
    "# curr += 1\n",
    "# for dim, axis in zip(range(4), [\"w\", \"x\", \"y\", \"z\"]):\n",
    "#     s = df[f\"rl_tools_command_target_orientation[{dim}]\"].dropna()\n",
    "#     axs[curr].plot(s.index, s, label=f\"target orientation {axis}\")\n",
    "# axs[curr].legend()\n",
    "# curr += 1\n",
    "# for dim, axis in zip(range(4), [\"w\", \"x\", \"y\", \"z\"]):\n",
    "#     s = df[f\"vehicle_attitude_q[{dim}]\"].dropna()\n",
    "#     axs[curr].plot(s.index, s, label=f\"orientation {axis} (actual)\")\n",
    "# axs[curr].legend()\n",
    "# curr += 1\n",
    "sR = df[[*[f\"rl_tools_policy_input_state_observation[{dim+3}]\" for dim in range(9)]]].dropna()\n",
    "qs = np.array([R.from_matrix(sR.values[i].reshape(3, 3)).as_quat() for i in range(len(sR))])\n",
    "for dim, axis in zip(range(4), [\"x\", \"y\", \"z\", \"w\"]):\n",
    "    axs[curr].plot(sR.index, qs[:, dim], label=f\"orientation {axis}\")\n",
    "axs[curr].legend()\n",
    "curr += 1\n",
    "for dim, axis in zip(range(3), [\"x\", \"y\", \"z\"]):\n",
    "    s = df[f\"rl_tools_policy_input_state_observation[{dim+3+9}]\"].dropna()\n",
    "    axs[curr].plot(s.index, s, label=f\"linear velocity {axis}\")\n",
    "    # s = df[f\"vehicle_local_position_v{axis}\"].dropna()\n",
    "    # axs[curr].plot(s.index, s, label=f\"linear velocity {axis} (actual)\")\n",
    "\n",
    "axs[curr].legend()\n",
    "curr += 1\n",
    "for dim, axis in zip(range(3), [\"x\", \"y\", \"z\"]):\n",
    "    s = df[f\"rl_tools_policy_input_state_observation[{dim+3+9+3}]\"].dropna()\n",
    "    axs[curr].plot(s.index, s, label=f\"angular velocity {axis}\")\n",
    "    # s = df[f\"vehicle_angular_velocity_xyz[{dim}]\"].dropna()\n",
    "    # axs[curr].plot(s.index, s, label=f\"angular velocity {axis} (actual)\")\n",
    "axs[curr].legend()\n",
    "curr += 1\n",
    "for dim in range(4):\n",
    "    s = df[f\"actuator_motors_mux_control[{dim}]\"].dropna()\n",
    "    axs[curr].plot(s.index, s, label=f\"motor {dim}\")\n",
    "    axs[curr].scatter(s.index, s)\n",
    "axs[curr].legend(loc=\"center left\")\n",
    "for ax in axs:\n",
    "    ax.tick_params(axis='x', which='both', bottom=True, top=False, labelbottom=True)\n",
    "curr += 1\n",
    "\n",
    "s = df[\"vehicle_acceleration_xyz[2]\"].dropna()\n",
    "axs[curr].plot(s.index, s, label=\"acceleration z\")\n",
    "axs[curr].set_title(\"Z acceleration (FRD)\")\n",
    "\n",
    "\n",
    "plt.savefig(\"figures/analysis.pdf\")\n",
    "plt.show()"
   ]
  },
  {
   "cell_type": "code",
   "execution_count": null,
   "metadata": {},
   "outputs": [],
   "source": [
    "policy_outputs = dfs_tf[0][[*[f\"actuator_motors_rl_tools_control[{i}]\" for i in range(4)]]].dropna()"
   ]
  },
  {
   "cell_type": "code",
   "execution_count": null,
   "metadata": {},
   "outputs": [],
   "source": [
    "policy_outputs.index.to_series().diff().plot()"
   ]
  },
  {
   "cell_type": "code",
   "execution_count": null,
   "metadata": {},
   "outputs": [],
   "source": [
    "from pyulog import ULog\n",
    "ulog = ULog(ulog_files[0], None, False)"
   ]
  },
  {
   "cell_type": "code",
   "execution_count": null,
   "metadata": {},
   "outputs": [],
   "source": [
    "names = [d.name for d in ulog.data_list]\n",
    "actuator_motors = ulog.data_list[np.argmax([name == \"actuator_motors_mux\" for name in names])]"
   ]
  },
  {
   "cell_type": "code",
   "execution_count": null,
   "metadata": {},
   "outputs": [],
   "source": [
    "any([np.isnan(v) for v in actuator_motors.data[\"control[0]\"]])"
   ]
  },
  {
   "cell_type": "code",
   "execution_count": null,
   "metadata": {},
   "outputs": [],
   "source": [
    "[m.message for m in ulog.logged_messages]"
   ]
  },
  {
   "cell_type": "code",
   "execution_count": null,
   "metadata": {},
   "outputs": [],
   "source": []
  },
  {
   "cell_type": "code",
   "execution_count": null,
   "metadata": {},
   "outputs": [],
   "source": [
    "df_tt = dfs[0]\n",
    "start_time = df_tt[\"rl_tools_command_active\"].idxmax()\n",
    "end_time = (df_tt[df_tt.index > start_time][\"rl_tools_command_active\"] == False).idxmax()\n",
    "print(f\"start_time: {start_time} end_time: {end_time}\")\n",
    "\n",
    "df_tt_tf = df_tt[(df_tt.index > start_time) & (df_tt.index < end_time)]\n",
    "\n",
    "trajectory_tracking_df = df_tt_tf[[*[f\"rl_tools_command_target_position[{i}]\" for i in range(3)], *[f\"vehicle_local_position_{axis}\" for axis in \"xyz\"]]].dropna(how=\"all\")\n",
    "\n",
    "target_position_df = trajectory_tracking_df[[\"rl_tools_command_target_position[0]\", \"rl_tools_command_target_position[1]\"]].dropna()\n",
    "plt.plot(target_position_df[\"rl_tools_command_target_position[0]\"], -target_position_df[\"rl_tools_command_target_position[1]\"])\n",
    "local_position_df = trajectory_tracking_df[[\"vehicle_local_position_x\", \"vehicle_local_position_y\"]].dropna()\n",
    "plt.plot(local_position_df[\"vehicle_local_position_x\"], -local_position_df[\"vehicle_local_position_y\"])"
   ]
  }
 ],
 "metadata": {
  "kernelspec": {
   "display_name": "Python 3",
   "language": "python",
   "name": "python3"
  },
  "language_info": {
   "codemirror_mode": {
    "name": "ipython",
    "version": 3
   },
   "file_extension": ".py",
   "mimetype": "text/x-python",
   "name": "python",
   "nbconvert_exporter": "python",
   "pygments_lexer": "ipython3",
   "version": "3.8.10"
  }
 },
 "nbformat": 4,
 "nbformat_minor": 2
}

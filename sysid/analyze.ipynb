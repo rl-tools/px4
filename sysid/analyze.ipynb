{
 "cells": [
  {
   "cell_type": "code",
   "execution_count": null,
   "metadata": {},
   "outputs": [],
   "source": [
    "import pandas as pd\n",
    "from load_ulg import load_ulg, timeframe\n",
    "from tqdm import tqdm\n",
    "import matplotlib.pyplot as plt\n",
    "from sklearn.linear_model import LinearRegression, HuberRegressor\n",
    "# model_name = \"x500\"\n",
    "# model_name = \"race6\"\n",
    "model_name = \"fs\"\n",
    "if model_name == 'x500':\n",
    "    from geometry import x500 as model\n",
    "elif model_name == \"race6\":\n",
    "    from geometry import race6 as model\n",
    "elif model_name == \"fs\":\n",
    "    from geometry import fs as model\n",
    "else:\n",
    "    raise ValueError(\"Unknown model name\")\n",
    "\n",
    "from process import throttle_thrust, find_tau, fit_tau, plot_thrust_curve, torque_angular_acceleration, fit_inertia, plot_torque_angular_acceleration_curve\n",
    "import numpy as np"
   ]
  },
  {
   "cell_type": "code",
   "execution_count": null,
   "metadata": {},
   "outputs": [],
   "source": [
    "if model_name in [\"x500\", \"fs\"]:\n",
    "    output_topic = \"actuator_motors_mux\" # use \"actuator_controls\" for the unmodified PX4\n",
    "else:\n",
    "    output_topic = \"actuator_motors\" # use \"actuator_controls\" for the unmodified PX4"
   ]
  },
  {
   "cell_type": "markdown",
   "metadata": {},
   "source": [
    "### Loading the logfile into a Pandas dataframe"
   ]
  },
  {
   "cell_type": "code",
   "execution_count": null,
   "metadata": {},
   "outputs": [],
   "source": [
    "if model_name == 'x500':\n",
    "    ulog_files = [\n",
    "        # \"logs/test.ulg\",\n",
    "        # \"logs/test2.ulg\"\n",
    "        \"logs/2023-12-27-x500/log_36_2023-12-27-14-21-32.ulg\",\n",
    "        \"logs/2023-12-27-x500/log_37_2023-12-27-14-24-24.ulg\"\n",
    "    ]\n",
    "elif model_name == \"race6\":\n",
    "    ulog_files = [\n",
    "        \"logs/2023-12-13-nishanth-sysid/log_45_2023-12-13-21-07-46-up-and-down.ulg\",\n",
    "        \"logs/2023-12-14-yang-crash/log_60_2023-12-14-20-26-16.ulg\",\n",
    "        \"logs/2023-12-13-nishanth-sysid/log_46_2023-12-13-21-08-08-left-and-right.ulg\"\n",
    "    ]\n",
    "elif model_name == \"fs\":\n",
    "    ulog_files = [\n",
    "        \"logs/2024-01-08-pavel-fs/log_63_2024-1-8-16-37-54.ulg\",\n",
    "        \"logs/2024-01-08-pavel-fs/log_64_2024-1-8-16-39-44.ulg\",\n",
    "        \"logs/2024-01-08-pavel-fs/log_65_2024-1-8-16-40-52.ulg\",\n",
    "        \"logs/2024-01-08-pavel-fs/log_66_2024-1-8-16-42-48.ulg\",\n",
    "        \"logs/2024-01-12-pavel policy test/log_76_2024-1-12-17-25-30.ulg\",\n",
    "        \"logs/2024-01-12-pavel policy test/log_77_2024-1-12-17-27-50.ulg\"\n",
    "    ]\n",
    "\n",
    "dfs = [load_ulg(file) for file in ulog_files]"
   ]
  },
  {
   "cell_type": "markdown",
   "metadata": {},
   "source": [
    "### Exploring the datapoints in the dataframe"
   ]
  },
  {
   "cell_type": "code",
   "execution_count": null,
   "metadata": {},
   "outputs": [],
   "source": [
    "grep = \"actuator_motors_mux\"\n",
    "[col for col in dfs[0].columns if grep in col]"
   ]
  },
  {
   "cell_type": "markdown",
   "metadata": {},
   "source": [
    "### Looking at the outputs to find the relevant timeframe"
   ]
  },
  {
   "cell_type": "code",
   "execution_count": null,
   "metadata": {},
   "outputs": [],
   "source": [
    "for i, (file, df) in enumerate(zip(ulog_files, dfs)):\n",
    "    plt.figure()\n",
    "    plt.title(f\"file {i}: {file}\")\n",
    "    for i in range(4):\n",
    "        s = df[f\"{output_topic}_control[{i}]\"].dropna()\n",
    "        plt.plot(s.index, s, label=f\"motor {i}\")\n",
    "    plt.xlabel(\"Time [s]\")\n",
    "    plt.ylabel(\"Throttle [0-1]\")\n",
    "    plt.legend()\n",
    "    if \"rl_tools_multiplexer_status_active\" in df.columns:\n",
    "        s = df[\"rl_tools_multiplexer_status_active\"].dropna()\n",
    "        plt.plot(s.index, s, label=\"active\")"
   ]
  },
  {
   "cell_type": "code",
   "execution_count": null,
   "metadata": {},
   "outputs": [],
   "source": [
    "if model_name == \"x500\":\n",
    "    timeframes = [\n",
    "        # (30, 50),\n",
    "        # (15, 50),\n",
    "        (30, 50),\n",
    "        (10, 40),\n",
    "    ]\n",
    "elif model_name == \"race6\":\n",
    "    timeframes = [\n",
    "        (4, 10),\n",
    "        (7, 11),\n",
    "        (2.5, 12.5),\n",
    "    ]\n",
    "elif model_name == \"fs\":\n",
    "    timeframes = [\n",
    "        (10, 45),\n",
    "        (10, 45),\n",
    "        (10, 45),\n",
    "        (10, 75),\n",
    "        (20, 90),\n",
    "        (20, 100),\n",
    "    ]\n",
    "else:\n",
    "    raise ValueError(\"Unknown model name\")\n",
    "dfs = [timeframe(df, time_start, time_end) for df, (time_start, time_end) in zip(dfs, timeframes)]"
   ]
  },
  {
   "cell_type": "code",
   "execution_count": null,
   "metadata": {},
   "outputs": [],
   "source": [
    "tau_test = 0.03\n",
    "dfs_tt = [throttle_thrust(df, tau_test, model, output_topic) for df in dfs]\n",
    "for i, (file, df) in enumerate(zip(ulog_files, dfs_tt)):\n",
    "    plt.figure()\n",
    "    plt.title(f\"File {i}: {file} tau: {tau_test}\")\n",
    "    plt.plot(df[\"throttle\"].dropna(), label=\"throttle\")\n",
    "    plt.ylabel(\"Throttle [0-1]^2\")\n",
    "    plt.xlabel(\"Time [s]\")\n",
    "    plt.twinx()\n",
    "    plt.plot(df[\"thrust\"].dropna(), label=\"acceleration\", color=\"orange\")\n",
    "    plt.ylabel(\"Thrust [N]\")\n",
    "    plt.show()"
   ]
  },
  {
   "cell_type": "code",
   "execution_count": null,
   "metadata": {},
   "outputs": [],
   "source": [
    "# throttle_estimation_files = list(range(len(ulog_files)))\n",
    "if model_name in [\"x500\", \"race6\"]:\n",
    "    throttle_estimation_files = [0]\n",
    "elif model_name == \"fs\":\n",
    "    throttle_estimation_files = [0, 4, 5]\n",
    "tau_correlations = find_tau([dfs[i] for i in throttle_estimation_files], model, output_topic)\n",
    "tau_argmax = tau_correlations[:, 1].argmax()\n",
    "tau = tau_correlations[tau_argmax, 0]\n",
    "plt.plot(tau_correlations[:, 0], tau_correlations[:, 1])\n",
    "plt.vlines(tau, tau_correlations[:, 1].min(), tau_correlations[:, 1].max(), color=\"red\", label=f\"Max Correlation Tau = {tau:.3f}s\")\n",
    "plt.xlabel(\"Tau [s]\")\n",
    "plt.ylabel(\"Correlation (throttle, thrust)\")\n",
    "plt.legend()\n",
    "plt.show()"
   ]
  },
  {
   "cell_type": "code",
   "execution_count": null,
   "metadata": {},
   "outputs": [],
   "source": [
    "dfs_tt = [throttle_thrust(df, tau, model, output_topic) for df in [dfs[i] for i in throttle_estimation_files]]"
   ]
  },
  {
   "cell_type": "code",
   "execution_count": null,
   "metadata": {},
   "outputs": [],
   "source": [
    "percentile = 0.05\n",
    "\n",
    "df_tt = pd.concat(dfs_tt)\n",
    "df_sysid = df_tt[[\"thrust\", \"throttle\"]].dropna()\n",
    "thrust = df_sysid[\"thrust\"]\n",
    "throttle = df_sysid[\"throttle\"]\n",
    "\n",
    "acceleration = thrust / model.mass\n",
    "real_acceleration = (acceleration - model.gravity).abs()\n",
    "real_acceleration_percentile = real_acceleration.quantile(percentile)\n",
    "hovering_throttles = (throttle[real_acceleration < real_acceleration_percentile]/4) ** 0.5\n",
    "hovering_throttle = hovering_throttles.median()\n",
    "plt.title(\"Hovering Throttle Distribution\")\n",
    "counts, bin_edges, patches = plt.hist(hovering_throttles, bins=100)\n",
    "plt.vlines(hovering_throttle, 0, max(counts), color=\"red\", label=f\"Median ({hovering_throttle:.3f})\")\n",
    "plt.xlabel(\"Hovering Throttle [0-1]\")\n",
    "plt.ylabel(\"Count\")\n",
    "plt.legend()\n",
    "plt.show()\n",
    "print(f\"Hovering throttle: {hovering_throttle} (per motor)\")"
   ]
  },
  {
   "cell_type": "code",
   "execution_count": null,
   "metadata": {},
   "outputs": [],
   "source": [
    "\n",
    "correlation, (slope, intercept) = fit_tau(dfs_tt, tau, model, output_topic)\n",
    "plot_thrust_curve(df_tt, model, output_topic, tau, slope, intercept, hovering_throttle)"
   ]
  },
  {
   "cell_type": "code",
   "execution_count": null,
   "metadata": {},
   "outputs": [],
   "source": [
    "dfs_tac = [torque_angular_acceleration(df, model, output_topic, tau, slope, intercept) for df in dfs]\n",
    "df_tac = pd.concat(dfs_tac)\n",
    "tac_correlation = df_tac[\"torque_x\"].corr(df_tac[\"dw_x\"])\n",
    "print(f\"Correlation: {tac_correlation}\")\n",
    "for i, (file, df_tt_tac) in enumerate(zip(ulog_files, dfs_tac)):\n",
    "\n",
    "    plt.figure()\n",
    "    plt.title(f\"File {i}: {file}\")\n",
    "    plt.plot(df_tt_tac[\"vehicle_angular_velocity_xyz_derivative[0]\"].dropna(), label=\"vehicle_angular_velocity_xyz_derivative[0]\")\n",
    "    plt.plot(df_tt_tac[\"dw_x\"].dropna(), label=\"dw_x\")\n",
    "    plt.xlabel(\"Time [s]\")\n",
    "    plt.ylabel(\"Angular Acceleration [rad/s^2]\")\n",
    "    plt.show()\n",
    "\n",
    "    plt.figure()\n",
    "    plt.title(f\"File {i}: {file}\")\n",
    "    plt.plot(df_tt_tac[\"dw_x\"].dropna(), label=\"dw_x\")\n",
    "    plt.legend()\n",
    "    plt.xlabel(\"Time [s]\")\n",
    "    plt.ylabel(\"Angular Acceleration [rad/s^2]\")\n",
    "    plt.twinx()\n",
    "    plt.plot(df_tt_tac[\"torque_x\"].dropna(), label=\"torque_x\", color=\"red\", linestyle=\"--\")\n",
    "    plt.ylabel(\"Torque [Nm]\")\n",
    "    plt.legend()\n",
    "    plt.show()"
   ]
  },
  {
   "cell_type": "code",
   "execution_count": null,
   "metadata": {},
   "outputs": [],
   "source": [
    "# angular_acceleration_files = list(range(len(ulog_files)))\n",
    "if model_name == \"x500\":\n",
    "    inertia_estimation_files = [1] \n",
    "elif model_name == \"race6\":\n",
    "    inertia_estimation_files = [2]\n",
    "elif model_name == \"fs\":\n",
    "    inertia_estimation_files = [1, 2]\n",
    "I_x, I_y = fit_inertia([dfs[i] for i in inertia_estimation_files], model, output_topic, tau, slope, intercept)\n",
    "plot_torque_angular_acceleration_curve([dfs[i] for i in inertia_estimation_files], model, output_topic, tau, slope, intercept)"
   ]
  },
  {
   "cell_type": "markdown",
   "metadata": {},
   "source": [
    "### Load Inertias from Other Quadrotors to estimate Izz"
   ]
  },
  {
   "cell_type": "code",
   "execution_count": null,
   "metadata": {},
   "outputs": [],
   "source": [
    "df_inertias = pd.read_csv(\"quadrotor_inertias.csv\")"
   ]
  },
  {
   "cell_type": "code",
   "execution_count": null,
   "metadata": {},
   "outputs": [],
   "source": [
    "df_inertias[\"i_zz_ratio_mean\"] = df_inertias[\"i_zz\"] * 2 / (df_inertias[\"i_xx\"] + df_inertias[\"i_yy\"])\n",
    "df_inertias[\"i_zz_ratio_max\"] = df_inertias[\"i_zz\"] / (df_inertias[[\"i_xx\", \"i_yy\"]].max(axis=1))\n",
    "df_inertias"
   ]
  },
  {
   "cell_type": "code",
   "execution_count": null,
   "metadata": {},
   "outputs": [],
   "source": [
    "plt.figure()\n",
    "counts, bin_edges, patches = plt.hist(df_inertias[\"i_zz_ratio_mean\"], bins=10)\n",
    "plt.title(\"Roll/Pitch (mean) -> Yaw Inertia Ratio Distribution\")\n",
    "plt.vlines(df_inertias[\"i_zz_ratio_mean\"].median(), 0, max(counts), color=\"red\", label=f\"Median ({df_inertias['i_zz_ratio_mean'].median():.3f})\")\n",
    "plt.vlines(df_inertias[\"i_zz_ratio_mean\"].mean(), 0, max(counts), color=\"black\", label=f\"Mean ({df_inertias['i_zz_ratio_mean'].mean():.3f})\")\n",
    "plt.legend()\n",
    "plt.xlabel(\"Inertia Ratio (Roll/Pitch -> Yaw)\")\n",
    "plt.ylabel(\"Count\")\n",
    "plt.show()\n",
    "plt.figure()\n",
    "plt.title(\"Roll/Pitch (max) -> Yaw Inertia Ratio Distribution\")\n",
    "counts, bin_edges, patches = plt.hist(df_inertias[\"i_zz_ratio_max\"], bins=10)\n",
    "plt.vlines(df_inertias[\"i_zz_ratio_max\"].median(), 0, max(counts), color=\"red\", label=f\"Median ({df_inertias['i_zz_ratio_max'].median():.3f})\")\n",
    "plt.vlines(df_inertias[\"i_zz_ratio_max\"].mean(), 0, max(counts), color=\"black\", label=f\"Mean ({df_inertias['i_zz_ratio_max'].mean():.3f})\")\n",
    "plt.xlabel(\"Inertia Ratio (Roll/Pitch -> Yaw)\")\n",
    "plt.ylabel(\"Count\")\n",
    "plt.legend()\n",
    "plt.show()"
   ]
  },
  {
   "cell_type": "code",
   "execution_count": null,
   "metadata": {},
   "outputs": [],
   "source": [
    "std_mean = df_inertias[\"i_zz_ratio_mean\"].std()\n",
    "std_max = df_inertias[\"i_zz_ratio_max\"].std()\n",
    "print(f\"Predictive standard deviation: mean: {std_mean:.3f} max: {std_max:.3f}\")\n",
    "use_mean = std_mean < std_max\n",
    "if use_mean:\n",
    "    inertia_ratio = df_inertias[\"i_zz_ratio_mean\"].median()\n",
    "    print(f\"Using mean: {inertia_ratio:.3f}\")\n",
    "else:\n",
    "    inertia_ratio = df_inertias[\"i_zz_ratio_max\"].median()\n",
    "    print(f\"Using max, inertia ratio: {inertia_ratio:.3f}\")\n",
    "I_z = (I_x + I_y)/2 * inertia_ratio if use_mean else max(I_x, I_y) * inertia_ratio\n",
    "print(f\"Estimated I_z: {I_z:.3f}\")\n",
    "I = np.diag([I_x, I_y, I_z])\n",
    "I"
   ]
  },
  {
   "cell_type": "code",
   "execution_count": null,
   "metadata": {},
   "outputs": [],
   "source": [
    "if model_name == \"x500\":\n",
    "    z_inertia_estimation_files = [1]\n",
    "elif model_name == \"race6\":\n",
    "    z_inertia_estimation_files = [2]\n",
    "elif model_name == \"fs\":\n",
    "    z_inertia_estimation_files = [3]\n",
    "else: \n",
    "    raise ValueError(\"Unknown model name\")\n",
    "dfs_tac = [torque_angular_acceleration(df, model, output_topic, tau, slope, intercept) for df in [dfs[i] for i in z_inertia_estimation_files]]"
   ]
  },
  {
   "cell_type": "code",
   "execution_count": null,
   "metadata": {},
   "outputs": [],
   "source": [
    "df_orig = dfs_tac[0]\n",
    "selected_cols = [*[f\"{output_topic}_control[{i}]\" for i in range(4)], *[f\"torque_{i}\" for i in [\"x\", \"y\", \"z\"]], *[f\"dw_{i}\" for i in [\"x\", \"y\", \"z\"]]]\n",
    "df = df_orig[selected_cols].dropna(how=\"all\").copy()\n",
    "old_index = df.index\n",
    "df.index = pd.to_datetime(df.index, unit=\"s\")\n",
    "df = df.interpolate(method=\"time\")\n",
    "df.index = old_index\n",
    "df = df.dropna()\n",
    "throttle2thrust = lambda throttle: throttle ** 2 * slope + intercept / 4\n",
    "throttle2draginput = lambda i, throttle: throttle2thrust(throttle) * model.rotor_torque_directions[i]\n",
    "for motor_i in range(4):\n",
    "    for axis_i, axis in enumerate([\"x\", \"y\", \"z\"]):\n",
    "        df[f\"torque_drag_input[{motor_i}]_{axis}\"] = df[f\"{output_topic}_control[{motor_i}]\"].ewm(halflife=f\"{tau*np.log(2)} s\", times=pd.to_datetime(df.index, unit=\"s\")).mean().map(lambda throttle: throttle2draginput(motor_i, throttle)[axis_i])"
   ]
  },
  {
   "cell_type": "code",
   "execution_count": null,
   "metadata": {},
   "outputs": [],
   "source": [
    "thrust_angular_acceleration_z = df[\"torque_z\"] / I_z\n",
    "residual_angular_acceleration_z = (-df[\"dw_z\"]) - thrust_angular_acceleration_z # convert dw_z from FRD to FLU\n",
    "residual_torque_z = residual_angular_acceleration_z * I_z"
   ]
  },
  {
   "cell_type": "code",
   "execution_count": null,
   "metadata": {},
   "outputs": [],
   "source": [
    "drag_input_z = sum([df[f\"torque_drag_input[{motor_i}]_z\"] for motor_i in range(4)])\n",
    "\n",
    "kd_model = LinearRegression()\n",
    "print(f\"Correlation {drag_input_z.corr(residual_torque_z)}\")\n",
    "kd_model.fit(drag_input_z.values.reshape(-1, 1), residual_torque_z.values)\n",
    "Kd, Kd_intercept = (kd_model.coef_[0], kd_model.intercept_)\n"
   ]
  },
  {
   "cell_type": "code",
   "execution_count": null,
   "metadata": {},
   "outputs": [],
   "source": [
    "import ipywidgets as widgets\n",
    "%matplotlib widget\n",
    "x = np.linspace(drag_input_z.min(), drag_input_z.max(), 100)\n",
    "y = x * Kd + Kd_intercept\n",
    "fig, ax = plt.subplots()\n",
    "plt.scatter(drag_input_z, residual_torque_z, s=0.1)\n",
    "line, = plt.plot(x, y, color=\"red\", label=f\"Kd = {Kd:.3f}\")\n",
    "plt.ylabel(\"Residual Torque [Nm]\")\n",
    "plt.xlabel(\"Drag Input [N]\")\n",
    "plt.title(\"Thrust -> Torque (Drag) Curve\")\n",
    "plt.legend()\n",
    "\n",
    "\n",
    "slider = widgets.FloatSlider(\n",
    "    value=Kd,\n",
    "    min=0,\n",
    "    max=1,\n",
    "    step=0.01,\n",
    "    description='Kd'\n",
    ")\n",
    "\n",
    "display(slider)\n",
    "\n",
    "def update_plot(change):\n",
    "    global Kd\n",
    "    Kd = change.new\n",
    "    line.set_ydata(x * change.new + Kd_intercept)\n",
    "    line.set_label(f\"Kd = {change.new:.3f}\")\n",
    "    fig.canvas.draw_idle()\n",
    "    ax.legend()\n",
    "\n",
    "slider.observe(update_plot, names='value')"
   ]
  },
  {
   "cell_type": "code",
   "execution_count": null,
   "metadata": {},
   "outputs": [],
   "source": [
    "print(f\"rotor_positions: \\n{model.rotor_positions}\")\n",
    "print(f\"rotor_thrust_directions: \\n{model.rotor_thrust_directions}\")\n",
    "print(f\"rotor_torque_directions: \\n{model.rotor_torque_directions}\")\n",
    "print(f\"mass: {model.mass:.5f}\")\n",
    "print(f\"tau: {tau:.5f}\")\n",
    "print(f\"Kf[0]: {intercept/4:.5f}\")\n",
    "print(f\"Kf[1]: {0:.5f}\")\n",
    "print(f\"Kf[2]: {slope:.5f}\")\n",
    "print(f\"Kd: {Kd:.5f}\")\n",
    "print(f\"Ixx: {I_x:.5f}\")\n",
    "print(f\"Iyy: {I_y:.5f}\")\n",
    "print(f\"Izz: {I_z:.5f}\")\n",
    "print(f\"hovering_throttle: {hovering_throttle:.5f}\")"
   ]
  }
 ],
 "metadata": {
  "kernelspec": {
   "display_name": "Python 3",
   "language": "python",
   "name": "python3"
  },
  "language_info": {
   "codemirror_mode": {
    "name": "ipython",
    "version": 3
   },
   "file_extension": ".py",
   "mimetype": "text/x-python",
   "name": "python",
   "nbconvert_exporter": "python",
   "pygments_lexer": "ipython3",
   "version": "3.8.10"
  }
 },
 "nbformat": 4,
 "nbformat_minor": 2
}

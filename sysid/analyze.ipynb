{
 "cells": [
  {
   "cell_type": "code",
   "execution_count": null,
   "metadata": {},
   "outputs": [],
   "source": [
    "import pandas as pd\n",
    "from load_ulg import load_ulg, timeframe\n",
    "from tqdm import tqdm\n",
    "import matplotlib.pyplot as plt\n",
    "from sklearn.linear_model import LinearRegression, HuberRegressor\n",
    "# model_name = \"x500\"\n",
    "# model_name = \"race6\"\n",
    "model_name = \"fs\"\n",
    "if model_name == 'x500':\n",
    "    from geometry import x500 as model\n",
    "elif model_name == \"race6\":\n",
    "    from geometry import race6 as model\n",
    "elif model_name == \"fs\":\n",
    "    from geometry import fs as model\n",
    "else:\n",
    "    raise ValueError(\"Unknown model name\")\n",
    "\n",
    "from process import throttle_thrust, find_tau, fit_tau, plot_thrust_curve, torque_angular_acceleration, fit_inertia, plot_torque_angular_acceleration_curve\n",
    "import numpy as np"
   ]
  },
  {
   "cell_type": "code",
   "execution_count": null,
   "metadata": {},
   "outputs": [],
   "source": [
    "if model_name in [\"x500\", \"fs\"]:\n",
    "    output_topic = \"actuator_motors_mux\" # use \"actuator_controls\" for the unmodified PX4\n",
    "else:\n",
    "    output_topic = \"actuator_motors\" # use \"actuator_controls\" for the unmodified PX4"
   ]
  },
  {
   "cell_type": "markdown",
   "metadata": {},
   "source": [
    "### Loading the logfile into a Pandas dataframe"
   ]
  },
  {
   "cell_type": "code",
   "execution_count": null,
   "metadata": {},
   "outputs": [],
   "source": [
    "if model_name == 'x500':\n",
    "    ulog_files = [\n",
    "        # \"logs/test.ulg\",\n",
    "        # \"logs/test2.ulg\"\n",
    "        \"logs/2023-12-27-x500/log_36_2023-12-27-14-21-32.ulg\",\n",
    "        \"logs/2023-12-27-x500/log_37_2023-12-27-14-24-24.ulg\"\n",
    "    ]\n",
    "elif model_name == \"race6\":\n",
    "    ulog_files = [\n",
    "        \"logs/2023-12-13-nishanth-sysid/log_45_2023-12-13-21-07-46-up-and-down.ulg\",\n",
    "        \"logs/2023-12-14-yang-crash/log_60_2023-12-14-20-26-16.ulg\",\n",
    "        \"logs/2023-12-13-nishanth-sysid/log_46_2023-12-13-21-08-08-left-and-right.ulg\"\n",
    "    ]\n",
    "elif model_name == \"fs\":\n",
    "    ulog_files = [\n",
    "        \"logs/2024-01-08-pavel-fs/log_63_2024-1-8-16-37-54.ulg\",\n",
    "        \"logs/2024-01-08-pavel-fs/log_64_2024-1-8-16-39-44.ulg\",\n",
    "        \"logs/2024-01-08-pavel-fs/log_65_2024-1-8-16-40-52.ulg\",\n",
    "        \"logs/2024-01-08-pavel-fs/log_66_2024-1-8-16-42-48.ulg\",\n",
    "        \"logs/2024-01-12-pavel policy test/log_76_2024-1-12-17-25-30.ulg\",\n",
    "        \"logs/2024-01-12-pavel policy test/log_77_2024-1-12-17-27-50.ulg\"\n",
    "    ]\n",
    "\n",
    "dfs = [load_ulg(file) for file in ulog_files]"
   ]
  },
  {
   "cell_type": "markdown",
   "metadata": {},
   "source": [
    "### Exploring the datapoints in the dataframe"
   ]
  },
  {
   "cell_type": "code",
   "execution_count": null,
   "metadata": {},
   "outputs": [],
   "source": [
    "grep = \"attitude\"\n",
    "[col for col in dfs[0].columns if grep in col]"
   ]
  },
  {
   "cell_type": "markdown",
   "metadata": {},
   "source": [
    "### Looking at the outputs to find the relevant timeframe"
   ]
  },
  {
   "cell_type": "code",
   "execution_count": null,
   "metadata": {},
   "outputs": [],
   "source": [
    "plot_activation = False\n",
    "for i_file, (file, df) in enumerate(zip(ulog_files, dfs)):\n",
    "    print(f\"File {i_file}: {file}\")\n",
    "    plt.figure()\n",
    "    # plt.title(f\"file {i_file}: {file}\")\n",
    "    for i_motor in range(4):\n",
    "        s = df[f\"{output_topic}_control[{i_motor}]\"].dropna()\n",
    "        plt.plot(s.index, s, label=f\"motor {i_motor}\")\n",
    "    plt.xlabel(\"Time [s]\")\n",
    "    plt.ylabel(\"Throttle [0-1]\")\n",
    "    plt.legend()\n",
    "    plt.savefig(f\"figures/throttle_file_{i_file}_{model_name}.pdf\")\n",
    "    if \"rl_tools_multiplexer_status_active\" in df.columns and plot_activation:\n",
    "        s = df[\"rl_tools_multiplexer_status_active\"].dropna()\n",
    "        plt.plot(s.index, s, label=\"active\")\n",
    "    plt.show()"
   ]
  },
  {
   "cell_type": "code",
   "execution_count": null,
   "metadata": {},
   "outputs": [],
   "source": [
    "if model_name == \"x500\":\n",
    "    timeframes = [\n",
    "        # (30, 50),\n",
    "        # (15, 50),\n",
    "        (30, 50),\n",
    "        (10, 40),\n",
    "    ]\n",
    "elif model_name == \"race6\":\n",
    "    timeframes = [\n",
    "        (4, 10),\n",
    "        (7, 11),\n",
    "        (2.5, 12.5),\n",
    "    ]\n",
    "elif model_name == \"fs\":\n",
    "    timeframes = [\n",
    "        (10, 45),\n",
    "        (10, 45),\n",
    "        (10, 45),\n",
    "        (10, 75),\n",
    "        (20, 90),\n",
    "        (20, 100),\n",
    "    ]\n",
    "else:\n",
    "    raise ValueError(\"Unknown model name\")\n",
    "dfs = [timeframe(df, time_start, time_end) for df, (time_start, time_end) in zip(dfs, timeframes)]"
   ]
  },
  {
   "cell_type": "code",
   "execution_count": null,
   "metadata": {},
   "outputs": [],
   "source": [
    "tau_test = 0.03\n",
    "dfs_tt = [throttle_thrust(df, tau_test, model, output_topic) for df in dfs]\n",
    "for i, (file, df) in enumerate(zip(ulog_files, dfs_tt)):\n",
    "    plt.figure()\n",
    "    plt.title(f\"File {i}: {file} tau: {tau_test}\")\n",
    "    plt.plot(df[\"throttle\"].dropna(), label=\"throttle\")\n",
    "    plt.ylabel(\"Throttle [0-1]^2\")\n",
    "    plt.xlabel(\"Time [s]\")\n",
    "    plt.twinx()\n",
    "    plt.plot(df[\"thrust\"].dropna(), label=\"acceleration\", color=\"orange\")\n",
    "    plt.ylabel(\"Thrust [N]\")\n",
    "    plt.show()"
   ]
  },
  {
   "cell_type": "code",
   "execution_count": null,
   "metadata": {},
   "outputs": [],
   "source": [
    "# throttle_estimation_files = list(range(len(ulog_files)))\n",
    "if model_name in [\"x500\", \"race6\"]:\n",
    "    throttle_estimation_files = [0]\n",
    "elif model_name == \"fs\":\n",
    "    throttle_estimation_files = [0, 4, 5]\n",
    "tau_correlations = find_tau([dfs[i] for i in throttle_estimation_files], model, output_topic)\n",
    "tau_argmax = tau_correlations[:, 1].argmax()\n",
    "tau = tau_correlations[tau_argmax, 0]\n",
    "plt.plot(tau_correlations[:, 0], tau_correlations[:, 1])\n",
    "plt.vlines(tau, tau_correlations[:, 1].min(), tau_correlations[:, 1].max(), color=\"red\", label=f\"Max Correlation Tau = {tau:.3f}s\")\n",
    "plt.xlabel(\"Tau [s]\")\n",
    "plt.ylabel(\"Correlation (throttle, thrust)\")\n",
    "plt.legend()\n",
    "plt.savefig(f\"figures/tau_correlation_{model_name}.pdf\")\n",
    "plt.show()"
   ]
  },
  {
   "cell_type": "code",
   "execution_count": null,
   "metadata": {},
   "outputs": [],
   "source": [
    "dfs_tt = [throttle_thrust(df, tau, model, output_topic) for df in [dfs[i] for i in throttle_estimation_files]]"
   ]
  },
  {
   "cell_type": "code",
   "execution_count": null,
   "metadata": {},
   "outputs": [],
   "source": [
    "percentile = 0.05\n",
    "\n",
    "df_tt = pd.concat(dfs_tt)\n",
    "df_sysid = df_tt[[\"thrust\", \"throttle\"]].dropna()\n",
    "thrust = df_sysid[\"thrust\"]\n",
    "throttle = df_sysid[\"throttle\"]\n",
    "\n",
    "acceleration = thrust / model.mass\n",
    "real_acceleration = (acceleration - model.gravity).abs()\n",
    "real_acceleration_percentile = real_acceleration.quantile(percentile)\n",
    "hovering_throttles = (throttle[real_acceleration < real_acceleration_percentile]/4) ** 0.5\n",
    "hovering_throttle = hovering_throttles.median()\n",
    "plt.title(\"Hovering Throttle Distribution\")\n",
    "counts, bin_edges, patches = plt.hist(hovering_throttles, bins=100)\n",
    "plt.vlines(hovering_throttle, 0, max(counts), color=\"red\", label=f\"Median ({hovering_throttle:.3f})\")\n",
    "plt.xlabel(\"Hovering Throttle [0-1]\")\n",
    "plt.ylabel(\"Count\")\n",
    "plt.legend()\n",
    "plt.show()\n",
    "plt.savefig(f\"figures/hovering_throttle_{model_name}.pdf\")\n",
    "print(f\"Hovering throttle: {hovering_throttle} (per motor)\")"
   ]
  },
  {
   "cell_type": "code",
   "execution_count": null,
   "metadata": {},
   "outputs": [],
   "source": [
    "\n",
    "correlation, (slope, intercept) = fit_tau(dfs_tt, tau, model, output_topic)\n",
    "plot_thrust_curve(df_tt, model, output_topic, tau, slope, intercept, hovering_throttle, filename=f\"figures/thrust_curve_{model_name}.pdf\")"
   ]
  },
  {
   "cell_type": "code",
   "execution_count": null,
   "metadata": {},
   "outputs": [],
   "source": [
    "dfs_tac = [torque_angular_acceleration(df, model, output_topic, tau, slope, intercept) for df in dfs]\n",
    "df_tac = pd.concat(dfs_tac)\n",
    "tac_correlation = df_tac[\"torque_x\"].corr(df_tac[\"dw_x\"])\n",
    "print(f\"Correlation: {tac_correlation}\")\n",
    "for i, (file, df_tt_tac) in enumerate(zip(ulog_files, dfs_tac)):\n",
    "\n",
    "    plt.figure()\n",
    "    plt.title(f\"File {i}: {file}\")\n",
    "    plt.plot(df_tt_tac[\"vehicle_angular_velocity_xyz_derivative[0]\"].dropna(), label=\"vehicle_angular_velocity_xyz_derivative[0]\")\n",
    "    plt.plot(df_tt_tac[\"dw_x\"].dropna(), label=\"dw_x\")\n",
    "    plt.xlabel(\"Time [s]\")\n",
    "    plt.ylabel(\"Angular Acceleration [rad/s^2]\")\n",
    "    plt.show()\n",
    "\n",
    "    plt.figure()\n",
    "    plt.title(f\"File {i}: {file}\")\n",
    "    plt.plot(df_tt_tac[\"dw_x\"].dropna(), label=\"dw_x\")\n",
    "    plt.legend()\n",
    "    plt.xlabel(\"Time [s]\")\n",
    "    plt.ylabel(\"Angular Acceleration [rad/s^2]\")\n",
    "    plt.twinx()\n",
    "    plt.plot(df_tt_tac[\"torque_x\"].dropna(), label=\"torque_x\", color=\"red\", linestyle=\"--\")\n",
    "    plt.ylabel(\"Torque [Nm]\")\n",
    "    plt.legend()\n",
    "    plt.show()"
   ]
  },
  {
   "cell_type": "code",
   "execution_count": null,
   "metadata": {},
   "outputs": [],
   "source": [
    "# angular_acceleration_files = list(range(len(ulog_files)))\n",
    "if model_name == \"x500\":\n",
    "    inertia_estimation_files = [1] \n",
    "elif model_name == \"race6\":\n",
    "    inertia_estimation_files = [2]\n",
    "elif model_name == \"fs\":\n",
    "    inertia_estimation_files = [1, 2]\n",
    "I_x, I_y = fit_inertia([dfs[i] for i in inertia_estimation_files], model, output_topic, tau, slope, intercept)\n",
    "plot_torque_angular_acceleration_curve([dfs[i] for i in inertia_estimation_files], model, output_topic, tau, slope, intercept, filename=f\"figures/angular_acceleration_curve_{model_name}\")"
   ]
  },
  {
   "cell_type": "markdown",
   "metadata": {},
   "source": [
    "### Load Inertias from Other Quadrotors to estimate Izz"
   ]
  },
  {
   "cell_type": "code",
   "execution_count": null,
   "metadata": {},
   "outputs": [],
   "source": [
    "df_inertias = pd.read_csv(\"quadrotor_inertias.csv\")"
   ]
  },
  {
   "cell_type": "code",
   "execution_count": null,
   "metadata": {},
   "outputs": [],
   "source": [
    "df_inertias[\"i_zz_ratio_mean\"] = df_inertias[\"i_zz\"] * 2 / (df_inertias[\"i_xx\"] + df_inertias[\"i_yy\"])\n",
    "df_inertias[\"i_zz_ratio_max\"] = df_inertias[\"i_zz\"] / (df_inertias[[\"i_xx\", \"i_yy\"]].max(axis=1))\n",
    "df_inertias"
   ]
  },
  {
   "cell_type": "code",
   "execution_count": null,
   "metadata": {},
   "outputs": [],
   "source": [
    "plt.figure()\n",
    "counts, bin_edges, patches = plt.hist(df_inertias[\"i_zz_ratio_mean\"], bins=10)\n",
    "plt.title(\"Roll/Pitch (mean) -> Yaw Inertia Ratio Distribution\")\n",
    "plt.vlines(df_inertias[\"i_zz_ratio_mean\"].median(), 0, max(counts), color=\"red\", label=f\"Median ({df_inertias['i_zz_ratio_mean'].median():.3f})\")\n",
    "plt.vlines(df_inertias[\"i_zz_ratio_mean\"].mean(), 0, max(counts), color=\"black\", label=f\"Mean ({df_inertias['i_zz_ratio_mean'].mean():.3f})\")\n",
    "plt.legend()\n",
    "plt.xlabel(\"Inertia Ratio (Roll/Pitch -> Yaw)\")\n",
    "plt.ylabel(\"Count\")\n",
    "plt.show()\n",
    "plt.figure()\n",
    "plt.title(\"Roll/Pitch (max) -> Yaw Inertia Ratio Distribution\")\n",
    "counts, bin_edges, patches = plt.hist(df_inertias[\"i_zz_ratio_max\"], bins=10)\n",
    "plt.vlines(df_inertias[\"i_zz_ratio_max\"].median(), 0, max(counts), color=\"red\", label=f\"Median ({df_inertias['i_zz_ratio_max'].median():.3f})\")\n",
    "plt.vlines(df_inertias[\"i_zz_ratio_max\"].mean(), 0, max(counts), color=\"black\", label=f\"Mean ({df_inertias['i_zz_ratio_max'].mean():.3f})\")\n",
    "plt.xlabel(\"Inertia Ratio (Roll/Pitch -> Yaw)\")\n",
    "plt.ylabel(\"Count\")\n",
    "plt.legend()\n",
    "plt.show()"
   ]
  },
  {
   "cell_type": "code",
   "execution_count": null,
   "metadata": {},
   "outputs": [],
   "source": [
    "std_mean = df_inertias[\"i_zz_ratio_mean\"].std()\n",
    "std_max = df_inertias[\"i_zz_ratio_max\"].std()\n",
    "print(f\"Predictive standard deviation: mean: {std_mean:.3f} max: {std_max:.3f}\")\n",
    "use_mean = std_mean < std_max\n",
    "if use_mean:\n",
    "    inertia_ratio = df_inertias[\"i_zz_ratio_mean\"].median()\n",
    "    print(f\"Using mean: {inertia_ratio:.3f}\")\n",
    "else:\n",
    "    inertia_ratio = df_inertias[\"i_zz_ratio_max\"].median()\n",
    "    print(f\"Using max, inertia ratio: {inertia_ratio:.3f}\")\n",
    "I_z = (I_x + I_y)/2 * inertia_ratio if use_mean else max(I_x, I_y) * inertia_ratio\n",
    "print(f\"Estimated I_z: {I_z:.3f}\")\n",
    "I = np.diag([I_x, I_y, I_z])\n",
    "I"
   ]
  },
  {
   "cell_type": "code",
   "execution_count": null,
   "metadata": {},
   "outputs": [],
   "source": [
    "if model_name == \"x500\":\n",
    "    z_inertia_estimation_files = [1]\n",
    "elif model_name == \"race6\":\n",
    "    z_inertia_estimation_files = [2]\n",
    "elif model_name == \"fs\":\n",
    "    z_inertia_estimation_files = [3]\n",
    "else: \n",
    "    raise ValueError(\"Unknown model name\")\n",
    "dfs_tac = [torque_angular_acceleration(df, model, output_topic, tau, slope, intercept) for df in [dfs[i] for i in z_inertia_estimation_files]]"
   ]
  },
  {
   "cell_type": "code",
   "execution_count": null,
   "metadata": {},
   "outputs": [],
   "source": [
    "df_orig = dfs_tac[0]\n",
    "selected_cols = [*[f\"{output_topic}_control[{i}]\" for i in range(4)], *[f\"torque_{i}\" for i in [\"x\", \"y\", \"z\"]], *[f\"dw_{i}\" for i in [\"x\", \"y\", \"z\"]]]\n",
    "df = df_orig[selected_cols].dropna(how=\"all\").copy()\n",
    "old_index = df.index\n",
    "df.index = pd.to_datetime(df.index, unit=\"s\")\n",
    "df = df.interpolate(method=\"time\")\n",
    "df.index = old_index\n",
    "df = df.dropna()\n",
    "throttle2thrust = lambda throttle: throttle ** 2 * slope + intercept / 4\n",
    "throttle2draginput = lambda i, throttle: throttle2thrust(throttle) * model.rotor_torque_directions[i]\n",
    "for motor_i in range(4):\n",
    "    for axis_i, axis in enumerate([\"x\", \"y\", \"z\"]):\n",
    "        df[f\"torque_drag_input[{motor_i}]_{axis}\"] = df[f\"{output_topic}_control[{motor_i}]\"].ewm(halflife=f\"{tau*np.log(2)} s\", times=pd.to_datetime(df.index, unit=\"s\")).mean().map(lambda throttle: throttle2draginput(motor_i, throttle)[axis_i])"
   ]
  },
  {
   "cell_type": "code",
   "execution_count": null,
   "metadata": {},
   "outputs": [],
   "source": [
    "thrust_angular_acceleration_z = df[\"torque_z\"] / I_z\n",
    "residual_angular_acceleration_z = (-df[\"dw_z\"]) - thrust_angular_acceleration_z # convert dw_z from FRD to FLU\n",
    "residual_torque_z = residual_angular_acceleration_z * I_z"
   ]
  },
  {
   "cell_type": "code",
   "execution_count": null,
   "metadata": {},
   "outputs": [],
   "source": [
    "drag_input_z = sum([df[f\"torque_drag_input[{motor_i}]_z\"] for motor_i in range(4)])\n",
    "\n",
    "kd_model = LinearRegression()\n",
    "print(f\"Correlation {drag_input_z.corr(residual_torque_z)}\")\n",
    "kd_model.fit(drag_input_z.values.reshape(-1, 1), residual_torque_z.values)\n",
    "Kd, Kd_intercept = (kd_model.coef_[0], kd_model.intercept_)\n"
   ]
  },
  {
   "cell_type": "code",
   "execution_count": null,
   "metadata": {},
   "outputs": [],
   "source": [
    "import ipywidgets as widgets\n",
    "# %matplotlib widget\n",
    "x = np.linspace(drag_input_z.min(), drag_input_z.max(), 100)\n",
    "y = x * Kd + Kd_intercept\n",
    "fig, ax = plt.subplots()\n",
    "plt.scatter(drag_input_z, residual_torque_z, s=0.1)\n",
    "line, = plt.plot(x, y, color=\"red\", label=f\"Kd = {Kd:.3f}\")\n",
    "plt.ylabel(\"Residual Torque [Nm]\")\n",
    "plt.xlabel(\"Drag Input [N]\")\n",
    "plt.title(\"Thrust -> Torque (Drag) Curve\")\n",
    "plt.legend()\n",
    "\n",
    "\n",
    "slider = widgets.FloatSlider(\n",
    "    value=Kd,\n",
    "    min=0,\n",
    "    max=1,\n",
    "    step=0.01,\n",
    "    description='Kd'\n",
    ")\n",
    "\n",
    "display(slider)\n",
    "\n",
    "def update_plot(change):\n",
    "    global Kd\n",
    "    Kd = change.new\n",
    "    line.set_ydata(x * change.new + Kd_intercept)\n",
    "    line.set_label(f\"Kd = {change.new:.3f}\")\n",
    "    fig.canvas.draw_idle()\n",
    "    ax.legend()\n",
    "\n",
    "slider.observe(update_plot, names='value')"
   ]
  },
  {
   "cell_type": "code",
   "execution_count": null,
   "metadata": {},
   "outputs": [],
   "source": []
  },
  {
   "cell_type": "code",
   "execution_count": null,
   "metadata": {},
   "outputs": [],
   "source": [
    "print(f\"rotor_positions: \\n{model.rotor_positions}\")\n",
    "print(f\"rotor_thrust_directions: \\n{model.rotor_thrust_directions}\")\n",
    "print(f\"rotor_torque_directions: \\n{model.rotor_torque_directions}\")\n",
    "print(f\"mass: {model.mass:.5f}\")\n",
    "print(f\"tau: {tau:.5f}\")\n",
    "print(f\"Kf[0]: {intercept/4:.5f}\")\n",
    "print(f\"Kf[1]: {0:.5f}\")\n",
    "print(f\"Kf[2]: {slope:.5f}\")\n",
    "print(f\"Kd: {Kd:.5f}\")\n",
    "print(f\"Ixx: {I_x:.5f}\")\n",
    "print(f\"Iyy: {I_y:.5f}\")\n",
    "print(f\"Izz: {I_z:.5f}\")\n",
    "print(f\"hovering_throttle: {hovering_throttle:.5f}\")"
   ]
  },
  {
   "cell_type": "code",
   "execution_count": null,
   "metadata": {},
   "outputs": [],
   "source": [
    "nan_cols = dfs[0].interpolate().isna().sum()\n",
    "for c in nan_cols[nan_cols > 0].items():\n",
    "    print(c)\n"
   ]
  },
  {
   "cell_type": "markdown",
   "metadata": {},
   "source": [
    "# Step 0: Load the data"
   ]
  },
  {
   "cell_type": "code",
   "execution_count": null,
   "metadata": {},
   "outputs": [],
   "source": [
    "wanted_columns = [\n",
    "    *[f\"vehicle_attitude_q[{i}]\" for i in range(4)],\n",
    "    *[f\"vehicle_acceleration_xyz[{i}]\" for i in range(3)],\n",
    "    *[f\"vehicle_angular_velocity_xyz[{i}]\" for i in range(3)],\n",
    "    *[f\"vehicle_angular_velocity_xyz_derivative[{i}]\" for i in range(3)],\n",
    "    *[f\"{output_topic}_control[{i}]\" for i in range(4)],\n",
    "]\n",
    "\n",
    "# flights => timeseries (timestamp + single value) => split up into separate time-series based on gaps\n",
    "\n",
    "flights = [\n",
    "    {\n",
    "        \"name\": name,\n",
    "        \"data\": {\n",
    "            name: {\n",
    "                \"timestamps\": np.array(c.index),\n",
    "                \"values\": np.array(c)\n",
    "            } for name, c in [(wc, df[wc].dropna()) for wc in wanted_columns]\n",
    "        }\n",
    "    } for name, df in zip(ulog_files, dfs)\n",
    "]"
   ]
  },
  {
   "cell_type": "markdown",
   "metadata": {},
   "source": [
    "# Step 1: Plot the flights"
   ]
  },
  {
   "cell_type": "code",
   "execution_count": null,
   "metadata": {},
   "outputs": [],
   "source": [
    "def plot_flights(flights):\n",
    "    for flight in flights:\n",
    "        plt.figure()\n",
    "        plt.title(flight[\"name\"])\n",
    "        for motor_i, motor in enumerate([f\"{output_topic}_control[{i}]\" for i in range(4)]):\n",
    "            plt.plot(flight[\"data\"][motor][\"timestamps\"], flight[\"data\"][motor][\"values\"], label=f\"motor {motor_i}\")\n",
    "        plt.show()\n",
    "plot_flights(flights)"
   ]
  },
  {
   "cell_type": "code",
   "execution_count": null,
   "metadata": {},
   "outputs": [],
   "source": [
    "# timeframes_thrust = [\n",
    "#     {\n",
    "#         \"flight\": 1,\n",
    "#         \"start\": \n",
    "#     }\n",
    "# ]\n",
    "# timeframes_inertia = [\n",
    "\n",
    "# ]\n",
    "\n",
    "flights_thrust = [flights[i] for i in [0, 4, 5]]\n",
    "flights_inertia = [flights[i] for i in [1, 2]]"
   ]
  },
  {
   "cell_type": "markdown",
   "metadata": {},
   "source": [
    "# Step 2: Select Flights and Time Slices"
   ]
  },
  {
   "cell_type": "markdown",
   "metadata": {},
   "source": [
    "# Step 3: Detect gaps and interpolate data"
   ]
  },
  {
   "cell_type": "code",
   "execution_count": null,
   "metadata": {},
   "outputs": [],
   "source": [
    "def slice_gaps_and_interpolate(flights):\n",
    "    flights_output = []\n",
    "    for flight in flights:\n",
    "        lowest_frequency = None\n",
    "        lowest_frequency_name = None\n",
    "        highest_frequency = None\n",
    "        highest_frequency_name = None\n",
    "        for name, data in flight[\"data\"].items():\n",
    "            diff = np.diff(data[\"timestamps\"])\n",
    "            frequency = 1/np.median(diff)\n",
    "            if lowest_frequency is None or frequency < lowest_frequency:\n",
    "                lowest_frequency = frequency\n",
    "                lowest_frequency_name = name\n",
    "            if highest_frequency is None or frequency > highest_frequency:\n",
    "                highest_frequency = frequency\n",
    "                highest_frequency_name = name\n",
    "            # print(f\"{name}: {1/np.median(diff)}\")\n",
    "\n",
    "        interval_threshold = 3 * 1/lowest_frequency\n",
    "        print(f\"Lowest frequency: {lowest_frequency} for {lowest_frequency_name}\")\n",
    "        print(f\"Highest frequency: {highest_frequency} for {highest_frequency_name}\")\n",
    "\n",
    "        earliest_timestamp_all = max([data[\"timestamps\"][0] for name, data in flight[\"data\"].items()])\n",
    "        latest_timestamp_all = min([data[\"timestamps\"][-1] for name, data in flight[\"data\"].items()])\n",
    "        print(f\"Earliest timestamp_all: {earliest_timestamp_all}\")\n",
    "        print(f\"Latest timestamp_all: {latest_timestamp_all}\")\n",
    "        master_timestamps_full = flight[\"data\"][highest_frequency_name][\"timestamps\"]\n",
    "        master_timestamps = master_timestamps_full[(master_timestamps_full > earliest_timestamp_all) & (master_timestamps_full < latest_timestamp_all)]\n",
    "        earliest_timestamp = master_timestamps[0]\n",
    "        latest_timestamp = master_timestamps[-1]\n",
    "        print(f\"Cutting {(100 * (1 - len(master_timestamps) / len(master_timestamps_full))):.2f}% of the data to synchronize the timestamp start and end\")\n",
    "\n",
    "        total_time = latest_timestamp - earliest_timestamp\n",
    "\n",
    "        gaps = []\n",
    "        for name, data in flight[\"data\"].items():\n",
    "            current_timestamps_full = data[\"timestamps\"]\n",
    "            current_timestamps = current_timestamps_full[(current_timestamps_full > earliest_timestamp) & (current_timestamps_full < latest_timestamp)]\n",
    "            current_timestamps_augmented = np.concatenate([[earliest_timestamp], current_timestamps, [latest_timestamp]])\n",
    "            diff = np.diff(current_timestamps_augmented)\n",
    "            current_gaps = np.where(diff > interval_threshold)[0]\n",
    "            for gap in current_gaps:\n",
    "                gap_start = data[\"timestamps\"][gap]\n",
    "                gap_end = data[\"timestamps\"][gap+1]\n",
    "                gaps.append((gap_start, gap_end))\n",
    "        gaps_sorted = sorted(gaps, key=lambda x: x[0])\n",
    "\n",
    "\n",
    "        current_gap_start = None\n",
    "        current_gap_end = None\n",
    "        combined_gaps = []\n",
    "\n",
    "        for i, (gap_start, gap_end) in enumerate(gaps_sorted):\n",
    "            if current_gap_start is None:\n",
    "                current_gap_start = gap_start\n",
    "            \n",
    "            if current_gap_end is None:\n",
    "                current_gap_end = gap_end\n",
    "            \n",
    "            if gap_end > current_gap_end:\n",
    "                current_gap_end = gap_end\n",
    "            \n",
    "            if i < len(gaps_sorted) - 1:\n",
    "                next_gap_start, next_gap_end = gaps_sorted[i+1]\n",
    "                if next_gap_start - current_gap_end > interval_threshold:\n",
    "                    print(f\"Gap: {current_gap_start} - {current_gap_end}\")\n",
    "                    combined_gaps.append((current_gap_start, current_gap_end))\n",
    "                    current_gap_start = None\n",
    "                    current_gap_end = None\n",
    "            else:\n",
    "                print(f\"Gap start {gap_start} - {gap_end}\")\n",
    "                print(f\"Final Gap: {current_gap_start} - {current_gap_end}\")\n",
    "                combined_gaps.append((current_gap_start, current_gap_end))\n",
    "        print(f\"Number of gaps: {len(combined_gaps)}\")\n",
    "\n",
    "        total_gap_time = sum([gap_end - gap_start for gap_start, gap_end in combined_gaps])\n",
    "        assert total_gap_time < 0.1 * total_time, f\"Total gap time: {total_gap_time:.2f}s\"\n",
    "\n",
    "        subflights = []\n",
    "        current_segment_start_timestamp = earliest_timestamp\n",
    "        for gap_start, gap_end in [*combined_gaps, (latest_timestamp, latest_timestamp)]:\n",
    "            segment_time = gap_start - current_segment_start_timestamp\n",
    "            if segment_time > 0.01 * total_time:\n",
    "                current_segment_timestamps = master_timestamps[(master_timestamps > current_segment_start_timestamp) & (master_timestamps < gap_start)]\n",
    "                sub_flight = {\n",
    "                    name: {\n",
    "                        \"timestamps\": current_segment_timestamps,\n",
    "                        \"values\": np.interp(current_segment_timestamps, data[\"timestamps\"], data[\"values\"])\n",
    "                    } for name, data in flight[\"data\"].items()\n",
    "                }\n",
    "                subflights.append(sub_flight)\n",
    "            else:\n",
    "                print(f\"Skipping segment of length {segment_time:.2f}s\")\n",
    "            current_segment_start_timestamp = gap_end\n",
    "        print(f\"Number of subflights: {len(subflights)}\")\n",
    "        print(subflights[0].keys())\n",
    "\n",
    "\n",
    "        for subflight in subflights:\n",
    "            plt.figure()\n",
    "            plt.title(flight[\"name\"])\n",
    "            for i, key in enumerate([f\"actuator_motors_mux_control[{i}]\" for i in range(4)]):\n",
    "                ts = subflight[key]\n",
    "                plt.plot(ts[\"timestamps\"], ts[\"values\"], label=f\"motor {i}\")\n",
    "            plt.legend()\n",
    "        \n",
    "        for subflight_i, subflight in enumerate(subflights):\n",
    "            flights_output.append({\n",
    "                \"name\": flight[\"name\"] + f\"_{subflight_i}\",\n",
    "                \"timestamps\": subflight[highest_frequency_name][\"timestamps\"],\n",
    "                \"data\": subflight\n",
    "            })\n",
    "    return flights_output"
   ]
  },
  {
   "cell_type": "code",
   "execution_count": null,
   "metadata": {},
   "outputs": [],
   "source": [
    "sliced_and_interpolated_flights_thrust = slice_gaps_and_interpolate(flights_thrust)\n",
    "sliced_and_interpolated_flights_inertia = slice_gaps_and_interpolate(flights_inertia)"
   ]
  },
  {
   "cell_type": "markdown",
   "metadata": {},
   "source": [
    "# Step 4: Apply stateful transformation (filter motor data)"
   ]
  },
  {
   "cell_type": "code",
   "execution_count": null,
   "metadata": {},
   "outputs": [],
   "source": [
    "\n",
    "def filter_rpms(timestamps, rpm_setpoints, T_m):\n",
    "    rpms_filtered = []\n",
    "    rpm = None\n",
    "    previous_t = None\n",
    "    for t, rpm_setpoint in zip(timestamps, rpm_setpoints):\n",
    "        if rpm is None:\n",
    "            rpm = rpm_setpoint\n",
    "        else:\n",
    "            delta_t = t - previous_t\n",
    "            alpha = np.exp(-delta_t / T_m)\n",
    "            rpm = alpha*rpm + (1-alpha) * rpm_setpoint\n",
    "        rpms_filtered.append(rpm)\n",
    "        previous_t = t\n",
    "    return np.array(rpms_filtered)\n",
    "\n",
    "def combine(flights, T_m, frd=True):\n",
    "    from scipy.spatial.transform import Rotation as R\n",
    "    def FRD2FLU(x):\n",
    "        return np.array([x[0], -x[1], -x[2]])\n",
    "\n",
    "    def FRD2FLU_quat(q):\n",
    "        return R.from_quat([q[1], -q[2], -q[3], q[0]])\n",
    "    from copy import deepcopy\n",
    "    flights = deepcopy(flights)\n",
    "    for flight in flights:\n",
    "        timestamps = flight[\"timestamps\"]\n",
    "        # num_steps = len(timestamps)\n",
    "        rpm_setpoints = np.array([flight[\"data\"][f\"{output_topic}_control[{i}]\"][\"values\"] for i in range(4)]).T\n",
    "        flight[\"rpm_setpoints\"] = rpm_setpoints\n",
    "        flight[\"rpms\"] = filter_rpms(timestamps, rpm_setpoints, T_m)\n",
    "        acceleration = np.array([flight[\"data\"][f\"vehicle_acceleration_xyz[{i}]\"][\"values\"] for i in range(3)]).T\n",
    "        flight[\"acceleration\"] = np.array(list(map(FRD2FLU, acceleration))) if frd else acceleration\n",
    "        omega = np.array([flight[\"data\"][f\"vehicle_angular_velocity_xyz[{i}]\"][\"values\"] for i in range(3)]).T\n",
    "        flight[\"omega\"] = np.array(list(map(FRD2FLU, omega))) if frd else omega\n",
    "        domega = np.array([flight[\"data\"][f\"vehicle_angular_velocity_xyz_derivative[{i}]\"][\"values\"] for i in range(3)]).T\n",
    "        flight[\"domega\"] = np.array(list(map(FRD2FLU, domega))) if frd else domega\n",
    "    \n",
    "    return {\n",
    "        \"rpm_setpoints\": np.concatenate([flight[\"rpm_setpoints\"] for flight in flights]),\n",
    "        \"rpms\": np.concatenate([flight[\"rpms\"] for flight in flights]),\n",
    "        \"acceleration\": np.concatenate([flight[\"acceleration\"] for flight in flights]),\n",
    "        \"omega\": np.concatenate([flight[\"omega\"] for flight in flights]),\n",
    "        \"domega\": np.concatenate([flight[\"domega\"] for flight in flights])\n",
    "    }\n"
   ]
  },
  {
   "cell_type": "code",
   "execution_count": null,
   "metadata": {},
   "outputs": [],
   "source": [
    "T_m_test = 0.05\n",
    "combined_test = combine(sliced_and_interpolated_flights_thrust, T_m_test)"
   ]
  },
  {
   "cell_type": "code",
   "execution_count": null,
   "metadata": {},
   "outputs": [],
   "source": [
    "combined_test[\"acceleration\"].shape"
   ]
  },
  {
   "cell_type": "code",
   "execution_count": null,
   "metadata": {},
   "outputs": [],
   "source": [
    "def estimate_motor_parameters(combined, model, exponents, verbose=True):\n",
    "    b = []\n",
    "    A = []\n",
    "\n",
    "\n",
    "    num_steps = len(combined[\"rpms\"])\n",
    "    for step_i in range(num_steps):\n",
    "        acceleration = combined[\"acceleration\"][step_i]\n",
    "        b.append(model[\"mass\"] * acceleration)\n",
    "        current_A = []\n",
    "        rpm = combined[\"rpms\"][step_i]\n",
    "        for motor_i in range(4):\n",
    "            for exponent in exponents:\n",
    "                current_A.append(model[\"rotor_thrust_directions\"][motor_i] * rpm[motor_i] ** exponent)\n",
    "        A.append(np.array(current_A).T)\n",
    "\n",
    "    A = np.array(A).reshape(-1, 4 * len(exponents))\n",
    "    b = np.array(b).reshape(-1)\n",
    "    if verbose:\n",
    "        print(f\"A shape: {A.shape}\")\n",
    "        print(f\"b shape: {b.shape}\")\n",
    "    K_f = np.linalg.lstsq(A, b, rcond=None)[0].reshape(-1, len(exponents))\n",
    "    rmse = np.sqrt(np.mean((A @ K_f.reshape(-1) - b) ** 2))\n",
    "    return K_f, rmse"
   ]
  },
  {
   "cell_type": "code",
   "execution_count": null,
   "metadata": {},
   "outputs": [],
   "source": [
    "\n",
    "# we want to do something\n",
    "# we have selected flights to use for this\n",
    "# cut out the relevant timeframe\n",
    "# we slice the flights based on gaps and interpolate\n",
    "# we then preprocess the data with time correlation (depends on the motor model) => makes the data iid\n",
    "# we use the iid data to estimate parameters\n",
    "\n",
    "\n",
    "rotor_x_displacement = 0.4179/2\n",
    "rotor_y_displacement = 0.481332/2\n",
    "# model is in FLU frame\n",
    "model = {\n",
    "    \"gravity\": 9.81,\n",
    "    \"mass\": 2.3 + 1.05,\n",
    "    \"rotor_positions\": np.array([\n",
    "        [ rotor_x_displacement, -rotor_y_displacement, 0],\n",
    "        [-rotor_x_displacement,  rotor_y_displacement, 0],\n",
    "        [ rotor_x_displacement,  rotor_y_displacement, 0],\n",
    "        [-rotor_x_displacement, -rotor_y_displacement, 0]\n",
    "    ]),\n",
    "    \"rotor_thrust_directions\": np.array([\n",
    "        [0, 0, 1],\n",
    "        [0, 0, 1],\n",
    "        [0, 0, 1],\n",
    "        [0, 0, 1]\n",
    "    ]),\n",
    "    \"rotor_torque_directions\": np.array([\n",
    "        [0, 0, -1],\n",
    "        [0, 0, -1],\n",
    "        [0, 0,  1],\n",
    "        [0, 0,  1]\n",
    "    ])\n",
    "}\n",
    "g = np.array([0, 0, -model[\"gravity\"]])\n",
    "exponents = [0, 2]\n",
    "K_f_test, rmse = estimate_motor_parameters(combined_test, model, exponents)\n",
    "K_f_test_mean = K_f_test.mean(axis=0)\n",
    "print(f\"K_f_test: {K_f_test}\")\n",
    "print(f\"K_f_test_mean: {K_f_test_mean}\")\n",
    "# rmse = motor_model_rmse(K_f_mean, combined, model, exponents)\n",
    "print(f\"RMSE: {rmse:.3f}\")\n",
    "\n",
    "from tqdm import tqdm\n",
    "from tqdm.notebook import tqdm\n",
    "\n",
    "T_m_candidates = np.linspace(0.001, 0.3, 20)\n",
    "results = [(T_m, *estimate_motor_parameters(combine(sliced_and_interpolated_flights_thrust, T_m), model, exponents, verbose=False)) for T_m in tqdm(T_m_candidates)]\n",
    "T_m, K_fs, rmses = zip(*results)"
   ]
  },
  {
   "cell_type": "code",
   "execution_count": null,
   "metadata": {},
   "outputs": [],
   "source": [
    "T_m = T_m_candidates[np.argmin(rmses)]\n",
    "K_f = K_fs[np.argmin(rmses)]\n",
    "K_f_mean = K_f.mean(axis=0)\n",
    "plt.figure()\n",
    "plt.plot(T_m_candidates, rmses, label=f\"T_m = {T_m}\")\n",
    "plt.legend()\n",
    "plt.show()\n",
    "\n",
    "combined_thrust = combine(sliced_and_interpolated_flights_thrust, T_m)\n",
    "combined_inertia = combine(sliced_and_interpolated_flights_inertia, T_m)"
   ]
  },
  {
   "cell_type": "markdown",
   "metadata": {},
   "source": [
    "use_mean_kf = True\n",
    "A = []\n",
    "b = []\n",
    "\n",
    "t = []\n",
    "\n",
    "num_steps = len(combined_inertia[\"rpms\"])\n",
    "for step_i in tqdm(range(num_steps)):\n",
    "    wx, wy, wz = np.zeros(3) #combined[\"omega\"][step_i]\n",
    "    dwx, dwy, dwz = combined_inertia[\"domega\"][step_i]\n",
    "    rpm = combined_thrust[\"rpms\"][step_i]\n",
    "    thrusts = [sum([(K_f_mean if use_mean_kf else K_f[motor_i])[exponent_i] * rpm[motor_i] ** exponent for exponent_i, exponent in enumerate(exponents)]) for motor_i in range(4)]\n",
    "    t.append(thrusts)\n",
    "    current_b = np.array([np.cross(model[\"rotor_positions\"][motor_i], model[\"rotor_thrust_directions\"][motor_i]) * thrusts[motor_i] for motor_i in range(4)]).sum(axis=0)\n",
    "    b.append(current_b[:2])\n",
    "    # current_A_J = np.array([\n",
    "    #     [dwx, -wy*wz, wz*wy],\n",
    "    #     [wx*wz, dwy, -wz*wx],\n",
    "    #     [-wx*wy, wy*wx, dwz]\n",
    "    # ])\n",
    "    current_A_J = np.array([\n",
    "        [dwx, 0],\n",
    "        [0, dwy],\n",
    "    ])\n",
    "    # current_A_Kd = np.array([-model[\"rotor_torque_directions\"][motor_i] * thrusts[motor_i] for motor_i in range(4)]).T\n",
    "    # current_A = np.concatenate([current_A_J, current_A_Kd], axis=1)\n",
    "    A.append(current_A_J)"
   ]
  },
  {
   "cell_type": "code",
   "execution_count": null,
   "metadata": {},
   "outputs": [],
   "source": [
    "use_mean_kf = True\n",
    "A = []\n",
    "b = []\n",
    "\n",
    "t = []\n",
    "torques = []\n",
    "\n",
    "num_steps = len(combined_inertia[\"rpms\"])\n",
    "for step_i in tqdm(range(num_steps)):\n",
    "    wx, wy, wz = np.zeros(3) #combined[\\\"omega\\\"][step_i]\\n\",\n",
    "    dwx, dwy, dwz = combined_inertia[\"domega\"][step_i]\n",
    "    rpm = combined_inertia[\"rpms\"][step_i]\n",
    "    thrusts = [sum([(K_f_mean if use_mean_kf else K_f[motor_i])[exponent_i] * rpm[motor_i] ** exponent for exponent_i, exponent in enumerate(exponents)]) for motor_i in range(4)]\n",
    "    t.append(thrusts)\n",
    "    current_b = np.array([np.cross(model[\"rotor_positions\"][motor_i], model[\"rotor_thrust_directions\"][motor_i]) * thrusts[motor_i] for motor_i in range(4)]).sum(axis=0)\n",
    "    torques.append(current_b)\n",
    "    b.append(current_b[:2])\n",
    "    # current_A_J = np.array([\\n\",\n",
    "    #     [dwx, -wy*wz, wz*wy],\\n\",\n",
    "    #     [wx*wz, dwy, -wz*wx],\\n\",\n",
    "    #     [-wx*wy, wy*wx, dwz]\\n\",\n",
    "    # ])\\n\",\n",
    "    current_A_J = np.array([\n",
    "        [dwx, 0],\n",
    "        [0, dwy],\n",
    "    ])\n",
    "    # current_A_Kd = np.array([-model[\\\"rotor_torque_directions\\\"][motor_i] * thrusts[motor_i] for motor_i in range(4)]).T\\n\",\n",
    "    # current_A = np.concatenate([current_A_J, current_A_Kd], axis=1)\\n\",\n",
    "    A.append(current_A_J)"
   ]
  },
  {
   "cell_type": "code",
   "execution_count": null,
   "metadata": {},
   "outputs": [],
   "source": [
    "A = np.array(A).reshape(-1, 2)\n",
    "b = np.array(b).reshape(-1)\n",
    "\n",
    "t = np.array(t)\n",
    "torques = np.array(torques)\n",
    "torques.shape"
   ]
  },
  {
   "cell_type": "code",
   "execution_count": null,
   "metadata": {},
   "outputs": [],
   "source": [
    "plt.scatter(t.sum(axis=1), combined_inertia[\"acceleration\"][:, 2]*model[\"mass\"]) \n",
    "plt.plot([0, 100], [0, 100], color=\"red\")\n",
    "K_f_mean"
   ]
  },
  {
   "cell_type": "code",
   "execution_count": null,
   "metadata": {},
   "outputs": [],
   "source": [
    "# I_xx, I_yy, I_zz, *K_d = np.linalg.lstsq(A, b, rcond=None)[0]\n",
    "# np.diag([I_xx, I_yy, I_zz])\n",
    "[I_xx, I_yy] = np.linalg.lstsq(A, b, rcond=None)[0]\n",
    "print(f\"I_xx: {I_xx:.3f}\")\n",
    "print(f\"I_yy: {I_yy:.3f}\")"
   ]
  },
  {
   "cell_type": "code",
   "execution_count": null,
   "metadata": {},
   "outputs": [],
   "source": [
    "plt.scatter(torques[:, 0], combined_inertia[\"domega\"][:, 0], s=0.1)\n",
    "torques_in_x = np.linspace(torques[:, 0].min(), torques[:, 0].max(), 100)\n",
    "plt.plot(torques_in_x, torques_in_x / (I_xx*2), color=\"red\")"
   ]
  },
  {
   "cell_type": "code",
   "execution_count": null,
   "metadata": {},
   "outputs": [],
   "source": [
    "# example_flight = flights[0]\n",
    "# plt.figure()\n",
    "# for i in range(4):\n",
    "#     plt.plot(flight[highest_frequency_name][\"timestamps\"], flight[f\"actuator_motors_mux_control[{i}]\"][\"values\"], label=f\"setpoint {i}\")\n",
    "#     plt.plot(flight[highest_frequency_name][\"timestamps\"], rpms[:, i], label=f\"actual {i}\")\n",
    "# plt.show()"
   ]
  },
  {
   "cell_type": "code",
   "execution_count": null,
   "metadata": {},
   "outputs": [],
   "source": [
    "motor_model = lambda i, rpm: K_f[i] @ np.array([rpm ** exponent for exponent in exponents])\n",
    "combine_motor_models = lambda rpms: np.array([motor_model(i, rpm) for i, rpm in enumerate(rpms)]).sum(axis=0)\n",
    "plt.figure()\n",
    "plt.title(\"Predicted vs Actual Thrust (individual motor models)\")\n",
    "predicted_thrust = np.array(list(map(combine_motor_models, combined_thrust[\"rpms\"])))\n",
    "actual_thrust = combined_thrust[\"acceleration\"][:, 2] * model[\"mass\"]\n",
    "motor_models_description = \"\\n\".join([f\"motor {i}: {', '.join([f'K_f{exponent}={k:.2f}' for exponent, k in zip(exponents, K_f[i])])}\" for i in range(4)])\n",
    "plt.scatter(predicted_thrust, actual_thrust, s=0.1, label=motor_models_description)\n",
    "min_thrust = min(predicted_thrust.min(), actual_thrust.min())\n",
    "max_thrust = max(predicted_thrust.max(), actual_thrust.max())\n",
    "print(f\"min_thrust: {min_thrust:.3f}\")\n",
    "print(f\"max_thrust: {max_thrust:.3f}\")\n",
    "plt.plot([min_thrust, max_thrust], [min_thrust, max_thrust] , color=\"red\")\n",
    "plt.legend()"
   ]
  },
  {
   "cell_type": "code",
   "execution_count": null,
   "metadata": {},
   "outputs": [],
   "source": [
    "assert len(K_f_mean) == 2\n",
    "plt.figure()\n",
    "plt.title(\"Mean motor model\")\n",
    "label = f\"model: {', '.join([f'K_f{exponent}={k:.2f}' for exponent, k in zip(exponents, K_f_mean)])}\"\n",
    "plt.scatter((combined_thrust[\"rpms\"] ** 2).sum(axis=1), actual_thrust, s=0.1, label=label)\n",
    "inputs = np.linspace(combined_thrust[\"rpms\"].min(), (combined_thrust[\"rpms\"]**2).sum(axis=1).max(), 100)\n",
    "plt.plot(inputs, np.array([K_f_mean[0]*4 + K_f_mean[1] * ip for ip in inputs]) , color=\"red\")\n",
    "plt.legend()\n",
    "plt.show()"
   ]
  },
  {
   "cell_type": "code",
   "execution_count": null,
   "metadata": {},
   "outputs": [],
   "source": [
    "lowest_frequency = None\n",
    "lowest_frequency_column = None\n",
    "for c in wanted_columns:\n",
    "    freq = 1/dfs[0][c].dropna().index.to_series().diff().median()\n",
    "    if lowest_frequency is None or freq < lowest_frequency:\n",
    "        lowest_frequency = freq\n",
    "        lowest_frequency_column = c\n",
    "\n",
    "print(f\"Lowest frequency: {lowest_frequency:.3f} Hz ({lowest_frequency_column})\")\n",
    "\n",
    "time_series_separation_threshold = 3 * 1/lowest_frequency\n",
    "\n",
    "dropout_timestamps = []\n",
    "for c in wanted_columns:\n",
    "    diff = dfs[0][c].dropna().index.to_series().diff()\n",
    "    dropout_indices = [diff > time_series_separation_threshold].index\n",
    "\n",
    "    for dropout in dropouts:\n",
    "        start = \n",
    "        print(f\"Column {c} has dropout at {dropout}\")\n",
    "    dropout_timestamps.extend(dropouts)\n",
    "\n",
    "\n",
    "\n",
    "# dfs_interp = [df[wanted_columns].interpolate().dropna() for df in dfs]\n",
    "dropout_timestamps"
   ]
  },
  {
   "cell_type": "code",
   "execution_count": null,
   "metadata": {},
   "outputs": [],
   "source": [
    "diff = dfs_interp[0].index.to_series().diff()\n",
    "interval = diff.median()\n",
    "# plt.plot(dfs_interp[0].index.to_series().diff() > interval * 100)\n",
    "\n",
    "diff.quantile(0.999)"
   ]
  }
 ],
 "metadata": {
  "kernelspec": {
   "display_name": "Python 3",
   "language": "python",
   "name": "python3"
  },
  "language_info": {
   "codemirror_mode": {
    "name": "ipython",
    "version": 3
   },
   "file_extension": ".py",
   "mimetype": "text/x-python",
   "name": "python",
   "nbconvert_exporter": "python",
   "pygments_lexer": "ipython3",
   "version": "3.8.10"
  }
 },
 "nbformat": 4,
 "nbformat_minor": 2
}
